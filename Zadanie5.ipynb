{
 "cells": [
  {
   "attachments": {},
   "cell_type": "markdown",
   "metadata": {},
   "source": [
    "# WSI - ćwiczenie 5 - Sztuczne sieci neuronowe\n",
    "*Tomasz Żebrowski, Tomasz Frankowski*\n",
    "\n",
    "Celem zadania była implementacja perceptronu wielowarstwowego oraz odpowiedniego algorytmu służąceg odo optymalizacji jego wag. Nasza implementacja znajduje się w pliku `mpl.py`. Najważniejszym jego elementem jest klasa `MLP` realizująca oba zadania. Posiada ona m.in. metody `predict` i `fit`. Pierwsza realizuje wyznaczanie wyjść perceptronu dla zadanych wejść, druga natomiast realizuje uczenie sieci z wykorzystaniem algorytmu optymalizacji gradientowej. Dodatkowo, w pliku tym zaimplementowane są funkcje aktywacji neuronu oraz ich pochodne.\n",
    "\n",
    "Pracę, zgodnie ze wskazówką, rozpoczynamy od weryfikacji poprawności działania zaimplementowanych elementów na zadaniu XOR."
   ]
  },
  {
   "cell_type": "code",
   "execution_count": 3,
   "metadata": {},
   "outputs": [
    {
     "name": "stdout",
     "output_type": "stream",
     "text": [
      "[0 0] ->  0.0\n",
      "[0 1] ->  1.0\n",
      "[1 0] ->  1.0\n",
      "[1 1] ->  0.0\n"
     ]
    }
   ],
   "source": [
    "import numpy as np\n",
    "from mlp import MLP, elu, d_elu_dt\n",
    "# Definicja zadania xor\n",
    "X_xor_train = np.array([[0, 0], [0, 1], [1, 0], [1, 1]])\n",
    "y_xor_train = np.array([[0], [1], [1], [0]])\n",
    "# Zaproponowana struktura sieci - 3 neurony w jednej warstwie ukrytej\n",
    "mlp = MLP(2, 3, 1, 1, elu, d_elu_dt)\n",
    "mlp.fit(X_xor_train, y_xor_train, 2137, 0.1)\n",
    "y_xor_pred = mlp.predict(X_xor_train)\n",
    "for i, x in enumerate(X_xor_train):\n",
    "    print(x,\"-> \", \"%.1f\" % y_xor_pred[i][0])"
   ]
  },
  {
   "attachments": {},
   "cell_type": "markdown",
   "metadata": {},
   "source": [
    "Wynik jest obiecujący. Perceptron prawidłowo realizuje funkcję XOR. Dla zapewnienia sobie dodatkowej pewności, testujemy go na zadaniu aproksymacji funkcji kwadratowej."
   ]
  },
  {
   "cell_type": "code",
   "execution_count": 4,
   "metadata": {},
   "outputs": [
    {
     "data": {
      "image/png": "[encoded data removed]",
      "text/plain": [
       "<Figure size 432x288 with 1 Axes>"
      ]
     },
     "metadata": {
      "needs_background": "light"
     },
     "output_type": "display_data"
    }
   ],
   "source": [
    "import matplotlib.pyplot as plt\n",
    "\n",
    "X_square_train = np.linspace(-1, 1, 100)\n",
    "y_square_train = np.array([x**2 for x in X_square_train])\n",
    "X_square_train = np.array([[x] for x in X_square_train])\n",
    "y_square_train = np.array([[y] for y in y_square_train])\n",
    "\n",
    "X_square_test = np.linspace(-1, 1, 15)\n",
    "y_square_test = np.array([x**2 for x in X_square_test])\n",
    "X_square_test = np.array([[x] for x in X_square_test])\n",
    "y_square_test = np.array([[y] for y in y_square_test])\n",
    "\n",
    "mlp = MLP(1, 3, 2, 1, elu, d_elu_dt)\n",
    "mlp.fit(X_square_train, y_square_train, 1519, 0.1)\n",
    "y_predict = mlp.predict(X_square_test)\n",
    "\n",
    "plt.plot(X_square_train, y_square_train, label=\"Funkcja oryginalna\")\n",
    "plt.scatter(X_square_test, y_predict, color=\"red\", label=\"Aproksymacja\")\n",
    "plt.legend()\n",
    "plt.show()"
   ]
  },
  {
   "attachments": {},
   "cell_type": "markdown",
   "metadata": {},
   "source": [
    "Ponownie, obserwujemy poprawne działanie perceptronu. Możemy przejść do przygotowania danych z zadanego zbioru."
   ]
  },
  {
   "attachments": {},
   "cell_type": "markdown",
   "metadata": {},
   "source": [
    "### Przygotowanie danych\n",
    "\n",
    "Rozpoczynamy od pobrania zbioru danych. Wykorzystujemy do tego funkcję `load_wine`  z pakietu *scikit-learn*. Sprawdzamy liczbę klas i parametrów. Poniżej przedstawiamy wynik."
   ]
  },
  {
   "cell_type": "code",
   "execution_count": 5,
   "metadata": {},
   "outputs": [
    {
     "name": "stdout",
     "output_type": "stream",
     "text": [
      "Liczba parametrów: 13\n",
      "Liczba klas: 3\n"
     ]
    }
   ],
   "source": [
    "from sklearn.datasets import load_wine\n",
    "data = load_wine()\n",
    "X = data.data\n",
    "y = data.target\n",
    "class_names = data.target_names\n",
    "feature_names = data.feature_names\n",
    "print(\"Liczba parametrów:\", len(feature_names))\n",
    "print(\"Liczba klas:\", len(class_names))"
   ]
  },
  {
   "attachments": {},
   "cell_type": "markdown",
   "metadata": {},
   "source": [
    "Dane dzielimy na podzbiory uczący i testowy w stosunku 4:1"
   ]
  },
  {
   "cell_type": "code",
   "execution_count": 6,
   "metadata": {},
   "outputs": [
    {
     "name": "stdout",
     "output_type": "stream",
     "text": [
      "Liczność zbioru uczącego: 142\n",
      "Liczność zbioru testowego: 36\n"
     ]
    }
   ],
   "source": [
    "from sklearn.model_selection import train_test_split\n",
    "X_train, X_test, y_train, y_test = train_test_split(X, y, train_size=0.8)\n",
    "print(\"Liczność zbioru uczącego:\", len(X_train))\n",
    "print(\"Liczność zbioru testowego:\", len(X_test))"
   ]
  },
  {
   "attachments": {},
   "cell_type": "markdown",
   "metadata": {},
   "source": [
    "Konieczne jest odpowiednie przetworzenie danych. Elementy zbioru y są liczbami odpowiadającymi numerowi klasy, natomiast nam zależy na szeregu liczb odpowiadającym przynależności do każdej z klas (Ponieważ takie wyjścia będzie miał perceptron). Dodatkowo, wszystkie parametry skalujemy tak, by ich odchylenie standardowe było równe 1, a średnia 0. Wpłynie to pozytywnie na wyniki eksperytmentów."
   ]
  },
  {
   "cell_type": "code",
   "execution_count": 7,
   "metadata": {},
   "outputs": [],
   "source": [
    "from sklearn.preprocessing import LabelBinarizer\n",
    "binarizer = LabelBinarizer()\n",
    "y_train = binarizer.fit_transform(y_train)\n",
    "y_test = binarizer.transform(y_test)\n",
    "\n",
    "from sklearn.preprocessing import StandardScaler\n",
    "scaler = StandardScaler()\n",
    "X_train = scaler.fit_transform(X_train)\n",
    "X_test = scaler.transform(X_test)"
   ]
  },
  {
   "attachments": {},
   "cell_type": "markdown",
   "metadata": {},
   "source": [
    "Tak przygotowane dane podajemy do perceptronu (o założonej z góry, dość losowej strukturze) i sprawdzamy co z tego wyjdzie."
   ]
  },
  {
   "cell_type": "code",
   "execution_count": 24,
   "metadata": {},
   "outputs": [],
   "source": [
    "mlp = MLP(13, 5, 2, 3, elu, d_elu_dt)\n",
    "mlp.fit(X_train, y_train, 500, 0.0001)"
   ]
  },
  {
   "cell_type": "code",
   "execution_count": 26,
   "metadata": {},
   "outputs": [
    {
     "name": "stdout",
     "output_type": "stream",
     "text": [
      "Dokładność na zbiorze uczącym: 71.83%\n"
     ]
    }
   ],
   "source": [
    "from mlp import accuracy\n",
    "y_pred = mlp.predict(y_train)\n",
    "acc = accuracy(np.argmax(y_train, axis=1), np.argmax(y_pred, axis=1))\n",
    "print(\"Dokładność na zbiorze uczącym:\", \"%.2f%%\" % (acc*100))"
   ]
  },
  {
   "attachments": {},
   "cell_type": "markdown",
   "metadata": {},
   "source": [
    "Wynik wyznaczony na zbiorze testowym jest dość dobry, jednak sądzimy, że może być lepiej. Testujemy sieci o różnej  strukturze korzystając z walidacji krzyżowej do wyznaczania ich jakości."
   ]
  },
  {
   "cell_type": "code",
   "execution_count": 10,
   "metadata": {},
   "outputs": [
    {
     "name": "stdout",
     "output_type": "stream",
     "text": [
      "Postęp: 84.85%\r"
     ]
    },
    {
     "name": "stderr",
     "output_type": "stream",
     "text": [
      "/home/tototmek/Studia/22Z/WSI/mlp.py:31: RuntimeWarning: overflow encountered in double_scalars\n",
      "  return activation(sum([i * w for i, w in zip(inputs, weights)]) + bias)\n",
      "/home/tototmek/Studia/22Z/WSI/mlp.py:69: RuntimeWarning: overflow encountered in double_scalars\n",
      "  deltas.append([sum([deltas[-1][k] * self.weights[i][k][j] for k in range(len(deltas[-1]))]) * self.d_activation_dt(outputs[i][j]) for j in range(len(outputs[i]))])\n",
      "/home/tototmek/Studia/22Z/WSI/mlp.py:75: RuntimeWarning: overflow encountered in double_scalars\n",
      "  self.weights[i][j][k] -= learning_rate * deltas[i][j] * outputs[i][k]\n",
      "/home/tototmek/Studia/22Z/WSI/mlp.py:31: RuntimeWarning: invalid value encountered in double_scalars\n",
      "  return activation(sum([i * w for i, w in zip(inputs, weights)]) + bias)\n",
      "/home/tototmek/Studia/22Z/WSI/mlp.py:69: RuntimeWarning: invalid value encountered in double_scalars\n",
      "  deltas.append([sum([deltas[-1][k] * self.weights[i][k][j] for k in range(len(deltas[-1]))]) * self.d_activation_dt(outputs[i][j]) for j in range(len(outputs[i]))])\n"
     ]
    },
    {
     "name": "stdout",
     "output_type": "stream",
     "text": [
      "Postęp: 96.97%\r"
     ]
    }
   ],
   "source": [
    "from datetime import datetime\n",
    "n_hidden = [1, 2, 3]\n",
    "n_neurons = [3, 4, 5, 6, 7, 8, 9, 10, 11, 12, 13]\n",
    "index = 0\n",
    "total = len(n_hidden) * len(n_neurons)\n",
    "results = {}\n",
    "\n",
    "for h in n_hidden:\n",
    "    for n in n_neurons:\n",
    "        print(\"Postęp:\", \"%.2f%%\" % (index/total*100), end=\"\\r\")\n",
    "        mlp = MLP(13, n, h, 3, elu, d_elu_dt)\n",
    "        time = datetime.now()\n",
    "        score = mlp.cross_validate(3, X_train, y_train, 666, 0.0001)\n",
    "        time = datetime.now() - time\n",
    "        results[(h, n)] = (score, time)\n",
    "        index += 1"
   ]
  },
  {
   "cell_type": "code",
   "execution_count": 17,
   "metadata": {},
   "outputs": [
    {
     "name": "stdout",
     "output_type": "stream",
     "text": [
      "Liczba warstw ukrytych\tLiczba neuronów\tDokładność\tCzas\n",
      "1 \t\t\t 5 \t\t 93.62% \t 0:00:10.788311\n",
      "1 \t\t\t 9 \t\t 92.20% \t 0:00:18.061193\n",
      "1 \t\t\t 12 \t\t 91.49% \t 0:00:23.825308\n",
      "2 \t\t\t 11 \t\t 91.49% \t 0:00:37.442053\n",
      "1 \t\t\t 6 \t\t 90.78% \t 0:00:12.643482\n",
      "1 \t\t\t 10 \t\t 90.78% \t 0:00:19.988085\n",
      "1 \t\t\t 11 \t\t 90.78% \t 0:00:21.950513\n",
      "2 \t\t\t 13 \t\t 90.78% \t 0:00:46.575109\n",
      "2 \t\t\t 12 \t\t 90.07% \t 0:00:41.519620\n",
      "1 \t\t\t 3 \t\t 89.36% \t 0:00:06.918796\n"
     ]
    }
   ],
   "source": [
    "# display some best results as a table\n",
    "\n",
    "print(\"Liczba warstw ukrytych\\tLiczba neuronów\\tDokładność\\tCzas\")\n",
    "for (h, n), (acc, time) in sorted(results.items(), key=lambda x: np.mean(x[1][0]), reverse=True)[:10]:\n",
    "    print(h, \"\\t\\t\\t\", n, \"\\t\\t\", \"%.2f%%\" % (np.mean(acc)*100), \"\\t\", time)\n",
    "\n"
   ]
  },
  {
   "attachments": {},
   "cell_type": "markdown",
   "metadata": {},
   "source": [
    "Widać, że osiągnięta została dobra dokładność. Najlepszą strukturą sieci do omawianego zadania okazuje się perceptron o jednej warstwie ukrytej posiadającej 5 neuronów. Zapewnia ona 93.62% dokładności oraz stosunkowow dobry czas wykonywania obliczeń. Nieintuicyjne wydawało się początkowo to, że sieci o większej głębokości radzą sobie gorzej. Prawdopodobnie wynika to z tego, że dochodzi w ich przypadku do przeuczenia - model słabo działa na danych walidacyjnych przy zbyt dużym dopasowaniu do danych uczących."
   ]
  },
  {
   "attachments": {},
   "cell_type": "markdown",
   "metadata": {},
   "source": [
    "Powyższe eksperymenty były wykonane przy stałym tempie uczenia. Sprawdzamy, jak jego zmiana wpływa na zbieżność algorytmu optymalizacji."
   ]
  },
  {
   "cell_type": "code",
   "execution_count": 10,
   "metadata": {},
   "outputs": [
    {
     "name": "stdout",
     "output_type": "stream",
     "text": [
      "Postęp: 100%7%\r"
     ]
    }
   ],
   "source": [
    "lr = np.logspace(-6, -2, 12)\n",
    "total = len(lr)\n",
    "results_lr = {}\n",
    "index = 0\n",
    "X_train_lr, X_val_lr, y_train_lr, y_val_lr = train_test_split(X_train, y_train, train_size=0.666)\n",
    "for l in lr:\n",
    "    print(\"Postęp:\", \"%.2f%%\" % (index/total*100), end=\"\\r\")\n",
    "    mlp = MLP(13, 5, 1, 3, elu, d_elu_dt)\n",
    "    history = mlp.fit(X_train, y_train, 666, l, validation_data=(X_val_lr, y_val_lr))\n",
    "    results_lr[l] = history\n",
    "    index += 1\n",
    "print(\"Postęp: 100%     \", end=\"\\r\")"
   ]
  }
 ],
 "metadata": {
  "kernelspec": {
   "display_name": "Python 3",
   "language": "python",
   "name": "python3"
  },
  "language_info": {
   "codemirror_mode": {
    "name": "ipython",
    "version": 3
   },
   "file_extension": ".py",
   "mimetype": "text/x-python",
   "name": "python",
   "nbconvert_exporter": "python",
   "pygments_lexer": "ipython3",
   "version": "3.8.10"
  },
  "orig_nbformat": 4,
  "vscode": {
   "interpreter": {
    "hash": "916dbcbb3f70747c44a77c7bcd40155683ae19c65e1c03b4aa3499c5328201f1"
   }
  }
 },
 "nbformat": 4,
 "nbformat_minor": 2
}
