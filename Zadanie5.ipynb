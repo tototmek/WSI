{
 "cells": [
  {
   "attachments": {},
   "cell_type": "markdown",
   "metadata": {},
   "source": [
    "# WSI - ćwiczenie 5 - Sztuczne sieci neuronowe\n",
    "*Tomasz Żebrowski, Tomasz Frankowski*\n",
    "\n",
    "Celem zadania była implementacja perceptronu wielowarstwowego oraz odpowiedniego algorytmu służąceg odo optymalizacji jego wag. Nasza implementacja znajduje się w pliku `mpl.py`. Najważniejszym jego elementem jest klasa `MLP` realizująca oba zadania. Posiada ona m.in. metody `predict` i `fit`. Pierwsza realizuje wyznaczanie wyjść perceptronu dla zadanych wejść, druga natomiast realizuje uczenie sieci z wykorzystaniem algorytmu optymalizacji gradientowej. Dodatkowo, w pliku tym zaimplementowane są funkcje aktywacji neuronu oraz ich pochodne.\n",
    "\n",
    "Pracę, zgodnie ze wskazówką, rozpoczynamy od weryfikacji poprawności działania zaimplementowanych elementów na zadaniu XOR."
   ]
  },
  {
   "cell_type": "code",
   "execution_count": 25,
   "metadata": {},
   "outputs": [
    {
     "name": "stdout",
     "output_type": "stream",
     "text": [
      "[0 0] ->  0.0\n",
      "[0 1] ->  1.0\n",
      "[1 0] ->  1.0\n",
      "[1 1] ->  0.0\n"
     ]
    }
   ],
   "source": [
    "import numpy as np\n",
    "from mlp import MLP, elu, d_elu_dt\n",
    "# Definicja zadania xor\n",
    "X_xor_train = np.array([[0, 0], [0, 1], [1, 0], [1, 1]])\n",
    "y_xor_train = np.array([[0], [1], [1], [0]])\n",
    "# Zaproponowana struktura sieci - 3 neurony w jednej warstwie ukrytej\n",
    "mlp = MLP(2, 3, 1, 1, elu, d_elu_dt)\n",
    "mlp.fit(X_xor_train, y_xor_train, 2137, 0.1)\n",
    "y_xor_pred = mlp.predict(X_xor_train)\n",
    "for i, x in enumerate(X_xor_train):\n",
    "    print(x,\"-> \", \"%.1f\" % y_xor_pred[i][0])"
   ]
  },
  {
   "attachments": {},
   "cell_type": "markdown",
   "metadata": {},
   "source": [
    "Wynik jest obiecujący. Perceptron prawidłowo realizuje funkcję XOR. Dla zapewnienia sobie dodatkowej pewności, testujemy go na zadaniu aproksymacji funkcji kwadratowej."
   ]
  },
  {
   "cell_type": "code",
   "execution_count": 26,
   "metadata": {},
   "outputs": [
    {
     "data": {
      "image/png": "[encoded data removed]",
      "text/plain": [
       "<Figure size 432x288 with 1 Axes>"
      ]
     },
     "metadata": {
      "needs_background": "light"
     },
     "output_type": "display_data"
    }
   ],
   "source": [
    "import matplotlib.pyplot as plt\n",
    "\n",
    "X_square_train = np.linspace(-1, 1, 100)\n",
    "y_square_train = np.array([x**2 for x in X_square_train])\n",
    "X_square_train = np.array([[x] for x in X_square_train])\n",
    "y_square_train = np.array([[y] for y in y_square_train])\n",
    "\n",
    "X_square_test = np.linspace(-1, 1, 15)\n",
    "y_square_test = np.array([x**2 for x in X_square_test])\n",
    "X_square_test = np.array([[x] for x in X_square_test])\n",
    "y_square_test = np.array([[y] for y in y_square_test])\n",
    "\n",
    "mlp = MLP(1, 3, 2, 1, elu, d_elu_dt)\n",
    "mlp.fit(X_square_train, y_square_train, 1519, 0.1)\n",
    "y_predict = mlp.predict(X_square_test)\n",
    "\n",
    "plt.plot(X_square_train, y_square_train, label=\"Funkcja oryginalna\")\n",
    "plt.scatter(X_square_test, y_predict, color=\"red\", label=\"Aproksymacja\")\n",
    "plt.legend()\n",
    "plt.show()"
   ]
  },
  {
   "attachments": {},
   "cell_type": "markdown",
   "metadata": {},
   "source": [
    "Ponownie, obserwujemy poprawne działanie perceptronu. Możemy przejść do przygotowania danych z zadanego zbioru."
   ]
  },
  {
   "attachments": {},
   "cell_type": "markdown",
   "metadata": {},
   "source": [
    "### Przygotowanie danych\n",
    "\n",
    "Rozpoczynamy od pobrania zbioru danych. Wykorzystujemy do tego funkcję `load_wine`  z pakietu *scikit-learn*. Sprawdzamy liczbę klas i parametrów. Poniżej przedstawiamy wynik."
   ]
  },
  {
   "cell_type": "code",
   "execution_count": 27,
   "metadata": {},
   "outputs": [
    {
     "name": "stdout",
     "output_type": "stream",
     "text": [
      "Liczba parametrów: 13\n",
      "Liczba klas: 3\n"
     ]
    }
   ],
   "source": [
    "from sklearn.datasets import load_wine\n",
    "data = load_wine()\n",
    "X = data.data\n",
    "y = data.target\n",
    "class_names = data.target_names\n",
    "feature_names = data.feature_names\n",
    "print(\"Liczba parametrów:\", len(feature_names))\n",
    "print(\"Liczba klas:\", len(class_names))"
   ]
  },
  {
   "attachments": {},
   "cell_type": "markdown",
   "metadata": {},
   "source": [
    "Dane dzielimy na podzbiory uczący i testowy w stosunku 4:1"
   ]
  },
  {
   "cell_type": "code",
   "execution_count": 28,
   "metadata": {},
   "outputs": [
    {
     "name": "stdout",
     "output_type": "stream",
     "text": [
      "Liczność zbioru uczącego: 142\n",
      "Liczność zbioru testowego: 36\n"
     ]
    }
   ],
   "source": [
    "from sklearn.model_selection import train_test_split\n",
    "X_train, X_test, y_train, y_test = train_test_split(X, y, train_size=0.8)\n",
    "print(\"Liczność zbioru uczącego:\", len(X_train))\n",
    "print(\"Liczność zbioru testowego:\", len(X_test))"
   ]
  },
  {
   "attachments": {},
   "cell_type": "markdown",
   "metadata": {},
   "source": [
    "Konieczne jest odpowiednie przetworzenie danych. Elementy zbioru y są liczbami odpowiadającymi numerowi klasy, natomiast nam zależy na szeregu liczb odpowiadającym przynależności do każdej z klas (Ponieważ takie wyjścia będzie miał perceptron). Dodatkowo, wszystkie parametry skalujemy tak, by ich odchylenie standardowe było równe 1, a średnia 0. Wpłynie to pozytywnie na wyniki eksperytmentów."
   ]
  },
  {
   "cell_type": "code",
   "execution_count": 29,
   "metadata": {},
   "outputs": [],
   "source": [
    "from sklearn.preprocessing import LabelBinarizer\n",
    "binarizer = LabelBinarizer()\n",
    "y_train = binarizer.fit_transform(y_train)\n",
    "y_test = binarizer.transform(y_test)\n",
    "\n",
    "from sklearn.preprocessing import StandardScaler\n",
    "scaler = StandardScaler()\n",
    "X_train = scaler.fit_transform(X_train)\n",
    "X_test = scaler.transform(X_test)"
   ]
  },
  {
   "attachments": {},
   "cell_type": "markdown",
   "metadata": {},
   "source": [
    "Tak przygotowane dane podajemy do perceptronu (o założonej z góry, dość losowej strukturze) i sprawdzamy co z tego wyjdzie."
   ]
  },
  {
   "cell_type": "code",
   "execution_count": 92,
   "metadata": {},
   "outputs": [],
   "source": [
    "mlp = MLP(13, 13, 2, 3, elu, d_elu_dt)\n",
    "mlp.fit(X_train, y_train, 100, 0.001)"
   ]
  },
  {
   "cell_type": "code",
   "execution_count": 93,
   "metadata": {},
   "outputs": [
    {
     "name": "stdout",
     "output_type": "stream",
     "text": [
      "0.7112676056338029\n",
      "[0.6755580454274193, 0.4228149350399041, 0.1908805660491356]\n"
     ]
    }
   ],
   "source": [
    "from mlp import accuracy\n",
    "y_pred = mlp.predict(y_train)\n",
    "acc = accuracy(np.argmax(y_train, axis=1), np.argmax(y_pred, axis=1))\n",
    "print(acc)"
   ]
  }
 ],
 "metadata": {
  "kernelspec": {
   "display_name": "Python 3",
   "language": "python",
   "name": "python3"
  },
  "language_info": {
   "codemirror_mode": {
    "name": "ipython",
    "version": 3
   },
   "file_extension": ".py",
   "mimetype": "text/x-python",
   "name": "python",
   "nbconvert_exporter": "python",
   "pygments_lexer": "ipython3",
   "version": "3.8.10"
  },
  "orig_nbformat": 4,
  "vscode": {
   "interpreter": {
    "hash": "916dbcbb3f70747c44a77c7bcd40155683ae19c65e1c03b4aa3499c5328201f1"
   }
  }
 },
 "nbformat": 4,
 "nbformat_minor": 2
}
