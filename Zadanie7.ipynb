{
 "cells": [
  {
   "attachments": {},
   "cell_type": "markdown",
   "metadata": {},
   "source": [
    "# WSI - ćwiczenie 7\n",
    "*Tomasz Żebrowski*\n",
    "\n",
    "Celem zadania było stworzenie narzędzia do wnioskowania przy użyciu sieci Bayesa i zademonstrowanie jego mozliwości na przykładzie systemu alarmowego.\n",
    "\n",
    "Omawiany system można opisać za pomocą pięciu binarnych zmiennych losowych. Zależności między tymi zmiennymi są zgodne z tymi przedstawionymi na wykładzie, a na potrzeby narzędzia reprezentuję je w poniższy sposób:"
   ]
  },
  {
   "cell_type": "code",
   "execution_count": 1,
   "metadata": {},
   "outputs": [],
   "source": [
    "# Tabela prawdopodobieństw\n",
    "probability_table = {\n",
    "    \"T\": [ # Wystąpienie trzęsienia ziemi\n",
    "        (None, 0.02)\n",
    "        ],\n",
    "    \"W\": [ # Włamanie\n",
    "        (None, 0.01)\n",
    "        ],\n",
    "    \"A\": [ # Załączenie alarmu\n",
    "        ([(\"W\", True), (\"T\", True)], 0.95),\n",
    "        ([(\"W\", True), (\"T\", False)], 0.94),\n",
    "        ([(\"W\", False), (\"T\", True)], 0.29),\n",
    "        ([(\"W\", False), (\"T\", False)], 0.001)\n",
    "        ],\n",
    "    \"J\": [ # Telefon od Jana\n",
    "        ([(\"A\", True)], 0.90),\n",
    "        ([(\"A\", False)], 0.05)\n",
    "    ],\n",
    "    \"M\": [ # Telefon od Magdy\n",
    "        ([(\"A\", True)], 0.70),\n",
    "        ([(\"A\", False)], 0.01)\n",
    "    ],\n",
    "}"
   ]
  }
 ],
 "metadata": {
  "kernelspec": {
   "display_name": "Python 3",
   "language": "python",
   "name": "python3"
  },
  "language_info": {
   "codemirror_mode": {
    "name": "ipython",
    "version": 3
   },
   "file_extension": ".py",
   "mimetype": "text/x-python",
   "name": "python",
   "nbconvert_exporter": "python",
   "pygments_lexer": "ipython3",
   "version": "3.8.10"
  },
  "orig_nbformat": 4,
  "vscode": {
   "interpreter": {
    "hash": "916dbcbb3f70747c44a77c7bcd40155683ae19c65e1c03b4aa3499c5328201f1"
   }
  }
 },
 "nbformat": 4,
 "nbformat_minor": 2
}
