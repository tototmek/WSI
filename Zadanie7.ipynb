{
 "cells": [
  {
   "attachments": {},
   "cell_type": "markdown",
   "metadata": {},
   "source": [
    "# WSI - ćwiczenie 7\n",
    "*Tomasz Żebrowski*\n",
    "\n",
    "Celem zadania było stworzenie narzędzia do wnioskowania przy użyciu sieci Bayesa i zademonstrowanie jego mozliwości na przykładzie systemu alarmowego.\n",
    "\n",
    "Omawiany system można opisać za pomocą pięciu binarnych zmiennych losowych. Zależności między nimi są zgodne z tymi przedstawionymi na wykładzie, a na potrzeby wykorzystania w programie reprezentuję je w poniższy sposób:"
   ]
  },
  {
   "cell_type": "code",
   "execution_count": 1,
   "metadata": {},
   "outputs": [],
   "source": [
    "# Tabela prawdopodobieństw\n",
    "probability_table = {\n",
    "    \"T\": [ # Wystąpienie trzęsienia ziemi\n",
    "        (None, 0.02)\n",
    "        ],\n",
    "    \"W\": [ # Włamanie\n",
    "        (None, 0.01)\n",
    "        ],\n",
    "    \"A\": [ # Załączenie alarmu\n",
    "        ([(\"W\", True), (\"T\", True)], 0.95),\n",
    "        ([(\"W\", True), (\"T\", False)], 0.94),\n",
    "        ([(\"W\", False), (\"T\", True)], 0.29),\n",
    "        ([(\"W\", False), (\"T\", False)], 0.001)\n",
    "        ],\n",
    "    \"J\": [ # Telefon od Jana\n",
    "        ([(\"A\", True)], 0.90),\n",
    "        ([(\"A\", False)], 0.05)\n",
    "    ],\n",
    "    \"M\": [ # Telefon od Magdy\n",
    "        ([(\"A\", True)], 0.70),\n",
    "        ([(\"A\", False)], 0.01)\n",
    "    ],\n",
    "}"
   ]
  },
  {
   "attachments": {},
   "cell_type": "markdown",
   "metadata": {},
   "source": [
    "Algorytm MCMC z próbkowaniem Gibbsa zaimplementowałem w pliku `bayes.py` jako metodę klasy `BayesNet`. Poniższy kod tworzy obiekt tej klasy reprezentujący sieć o zadanych połączeniach."
   ]
  },
  {
   "cell_type": "code",
   "execution_count": 2,
   "metadata": {},
   "outputs": [],
   "source": [
    "from bayes import BayesNet\n",
    "\n",
    "net = BayesNet(probability_table)"
   ]
  },
  {
   "attachments": {},
   "cell_type": "markdown",
   "metadata": {},
   "source": [
    "Weryfikuję czy algorytm działa poprawnie wyznaczając z jego pomocą znane z założeń zadania prawdopodobieństwa."
   ]
  },
  {
   "cell_type": "code",
   "execution_count": 3,
   "metadata": {},
   "outputs": [],
   "source": [
    "results = {}\n",
    "for variable in probability_table:\n",
    "    if probability_table[variable][0][0] is None:\n",
    "        results[f\"P({variable})\"] = net.mcmc({}, variable, 100000)\n",
    "    else:\n",
    "        for variant in probability_table[variable]:\n",
    "            evidence = {}\n",
    "            for evidence_element in variant[0]:\n",
    "                evidence[evidence_element[0]] = evidence_element[1]\n",
    "            results[f\"P({variable}|{evidence})\"] = net.mcmc(evidence, variable, 100000)"
   ]
  },
  {
   "cell_type": "code",
   "execution_count": 4,
   "metadata": {},
   "outputs": [
    {
     "name": "stdout",
     "output_type": "stream",
     "text": [
      "Liczone prawdopodobieństwo  Wynik programu   Prawidłowy wynik\n",
      "P(T)                            0.0217          0.0200\n",
      "P(W)                            0.0141          0.0100\n",
      "P(A|{'W': True, 'T': True})     0.9541          0.9500\n",
      "P(A|{'W': True, 'T': False})    0.9391          0.9400\n",
      "P(A|{'W': False, 'T': True})    0.2929          0.2900\n",
      "P(A|{'W': False, 'T': False})   0.0005          0.0010\n",
      "P(J|{'A': True})                0.8999          0.9000\n",
      "P(J|{'A': False})               0.0470          0.0500\n",
      "P(M|{'A': True})                0.7115          0.7000\n",
      "P(M|{'A': False})               0.0097          0.0100\n"
     ]
    }
   ],
   "source": [
    "correct_probability = [0.02, 0.01, 0.95, 0.94, 0.29, 0.001, 0.90, 0.05, 0.70, 0.01]\n",
    "print(f\"{'Liczone prawdopodobieństwo':28}{'Wynik programu':17}{'Prawidłowy wynik':16}\")\n",
    "for index, result in enumerate(results):\n",
    "    print(f\"{result:32}{results[result]:4.4f}{correct_probability[index]:16.4f}\")"
   ]
  },
  {
   "attachments": {},
   "cell_type": "markdown",
   "metadata": {},
   "source": [
    "Widać, że dla tak dużej liczby iteracji (100000) wyniki wyznaczone przez program są bardzo bliskie wartościom rzeczywistym. Ponadto, wyznaczenie ich nie zajęło bardzo dużo czasu."
   ]
  },
  {
   "attachments": {},
   "cell_type": "markdown",
   "metadata": {},
   "source": [
    "### Prezentacja możliwości programu\n",
    "Oczywiście stworzone narzędzie pozwala na realizację wielu innych rodzajów zadań poza wyznaczeniem już znanych prawdopodobieństw.\n",
    "\n",
    "Pierwszym z nich może być wyznaczenie łącznych prawdopodobieństw dla wszystkich zdarzeń (Przy braku wiedzy o systemie)"
   ]
  },
  {
   "cell_type": "code",
   "execution_count": 5,
   "metadata": {},
   "outputs": [
    {
     "name": "stdout",
     "output_type": "stream",
     "text": [
      "Liczone prawdopodobieństwo\tWynik programu\n",
      "P(T)                    \t0.0196\n",
      "P(W)                    \t0.0130\n",
      "P(A)                    \t0.0154\n",
      "P(J)                    \t0.0647\n",
      "P(M)                    \t0.0200\n"
     ]
    }
   ],
   "source": [
    "results = {}\n",
    "for variable in probability_table:\n",
    "    results[f\"P({variable})\"] = net.mcmc({}, variable, 100000)\n",
    "print(\"Liczone prawdopodobieństwo\\tWynik programu\")\n",
    "for result in results:\n",
    "    print(f\"{result:24}\\t{results[result]:4.4f}\")"
   ]
  },
  {
   "attachments": {},
   "cell_type": "markdown",
   "metadata": {},
   "source": [
    "W przypadku zdarzeń `T` i `W` wyniki są te same co poprzednio, również zgodne z założeniami zadania. Pozostałe prawdopodobieństwa zgadzają się z tymi, które można uzyskać licząć te prawdopodobieństwa ręcznie."
   ]
  },
  {
   "attachments": {},
   "cell_type": "markdown",
   "metadata": {},
   "source": [
    "Program można zastosować do typów zadań wymienionych w wykładzie:\n",
    "1. Zadanie diagnostyczne:   Magda zadzwoniła; Czy było włamanie?\n",
    "2. Zadanie predykcyjne:     Było włamanie; Czy zadzwoni Jan?\n",
    "3. Zadanie wyjaśniające:    Włączył się alarm i było trzęsienie ziemi; Czy nie było również włamania?\n",
    "4. Zadanie mieszane:        Było trzęsienie ziemi i zadzwonił Jan; Czy włączył się też alarm?"
   ]
  },
  {
   "cell_type": "code",
   "execution_count": 6,
   "metadata": {},
   "outputs": [
    {
     "name": "stdout",
     "output_type": "stream",
     "text": [
      "Zadanie diagnostyczne\n",
      "P(W|{'M': True}) = 0.3036\n"
     ]
    }
   ],
   "source": [
    "# Zadanie 1\n",
    "print(\"Zadanie diagnostyczne\")\n",
    "result_1 = net.mcmc({\"M\": True}, \"W\", 100000)\n",
    "print(f\"P(W|{{'M': True}}) = {result_1:4.4f}\")"
   ]
  },
  {
   "cell_type": "code",
   "execution_count": 7,
   "metadata": {},
   "outputs": [
    {
     "name": "stdout",
     "output_type": "stream",
     "text": [
      "Zadanie predykcyjne\n",
      "P(J|{'W': True}) = 0.8478\n"
     ]
    }
   ],
   "source": [
    "# Zadanie 2\n",
    "print(\"Zadanie predykcyjne\")\n",
    "jan = net.mcmc({\"W\": True}, \"J\", 100000)\n",
    "print(f\"P(J|{{'W': True}}) = {jan:4.4f}\")"
   ]
  },
  {
   "cell_type": "code",
   "execution_count": 8,
   "metadata": {},
   "outputs": [
    {
     "name": "stdout",
     "output_type": "stream",
     "text": [
      "Zadanie wyjaśniające\n",
      "P(W|{'A': True, 'T': True}) = 0.0330\n"
     ]
    }
   ],
   "source": [
    "# Zadanie 3\n",
    "print(\"Zadanie wyjaśniające\")\n",
    "result_3 = net.mcmc({\"A\": True, \"T\" : True}, \"W\", 100000)\n",
    "print(f\"P(W|{{'A': True, 'T': True}}) = {result_3:4.4f}\")"
   ]
  },
  {
   "cell_type": "code",
   "execution_count": 9,
   "metadata": {},
   "outputs": [
    {
     "name": "stdout",
     "output_type": "stream",
     "text": [
      "0.3701625\n"
     ]
    }
   ],
   "source": [
    "print(net.mcmc({\"A\": True}, \"T\", 100000))"
   ]
  }
 ],
 "metadata": {
  "kernelspec": {
   "display_name": "Python 3",
   "language": "python",
   "name": "python3"
  },
  "language_info": {
   "codemirror_mode": {
    "name": "ipython",
    "version": 3
   },
   "file_extension": ".py",
   "mimetype": "text/x-python",
   "name": "python",
   "nbconvert_exporter": "python",
   "pygments_lexer": "ipython3",
   "version": "3.8.10"
  },
  "orig_nbformat": 4,
  "vscode": {
   "interpreter": {
    "hash": "916dbcbb3f70747c44a77c7bcd40155683ae19c65e1c03b4aa3499c5328201f1"
   }
  }
 },
 "nbformat": 4,
 "nbformat_minor": 2
}
