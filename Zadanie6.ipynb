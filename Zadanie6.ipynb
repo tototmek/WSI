{
 "cells": [
  {
   "attachments": {},
   "cell_type": "markdown",
   "metadata": {},
   "source": [
    "# Ćwiczenie 6\n",
    "*Tomasz Żebrowski*\n",
    "\n",
    "### Implementacja"
   ]
  },
  {
   "attachments": {},
   "cell_type": "markdown",
   "metadata": {},
   "source": [
    "Celem zadania była implementacja algorytmu Q-Learning oraz jej przetestowanie na zadaniu *Taxi*. Realizacja algorytmu zawarta jest w pliku `qlearning.py`. Jej głównym elementem jest funkcja `q_learning`, która przyjmuje następujące parametry:\n",
    "- `env` - środowisko działania agenta\n",
    "- `t_max` - limit czasu zadania\n",
    "- `gamma` - współczynnik dyskontowania\n",
    "- `beta` - współczynnik szybkości uczenia\n",
    "- `epochs` - liczba epok\n",
    "- `action_choose_func` - funkcja służąca do wyboru akcji w danym stanie.\n",
    "Zaimplementowana została funkcja realizująca wybór akcji zgodnie ze strategią ϵ-zachłanną z możliwością wyboru parametru ϵ."
   ]
  },
  {
   "attachments": {},
   "cell_type": "markdown",
   "metadata": {},
   "source": [
    "### Doświadczenia\n",
    "\n",
    "W pierwszej kolejności konieczne jest zdefiniowanie zadania, na którym działał będzie algorytm. W tym przypadku zadanie jest już wykonane - omawiany problem dostępny jest w pakiecie `gym`. Poniższy kod wczytuje zadanie."
   ]
  },
  {
   "cell_type": "code",
   "execution_count": 1,
   "metadata": {},
   "outputs": [],
   "source": [
    "import gym\n",
    "import matplotlib.pyplot as plt\n",
    "from IPython import display\n",
    "import time\n",
    "import numpy as np\n",
    "%matplotlib inline\n",
    "\n",
    "env = gym.make(\"Taxi-v3\", render_mode=\"ansi\")\n"
   ]
  },
  {
   "attachments": {},
   "cell_type": "markdown",
   "metadata": {},
   "source": [
    "Dla utworzonego środowiska tworzymy strategię optymalną wykorzystując zaimplementowany algorytm. Parametry są dobrane bardzo zgrubnie i raczej nie dają gwarancji idealnego działania"
   ]
  },
  {
   "cell_type": "code",
   "execution_count": 2,
   "metadata": {},
   "outputs": [],
   "source": [
    "from qlearning import q_learning, e_greedy_strategy\n",
    "\n",
    "Q = q_learning(env, 1000, 0.9, 0.9, 1000, e_greedy_strategy(0.1))"
   ]
  },
  {
   "attachments": {},
   "cell_type": "markdown",
   "metadata": {},
   "source": [
    "Została wyznaczona pewna strategia. Warto sprawdzić czy ona działa. Poniższy kod wyświetla prostą animację prezentującą jej \n",
    "działanie."
   ]
  },
  {
   "cell_type": "code",
   "execution_count": 3,
   "metadata": {},
   "outputs": [
    {
     "name": "stdout",
     "output_type": "stream",
     "text": [
      "+---------+\n",
      "|\u001b[35m\u001b[34;1m\u001b[43mR\u001b[0m\u001b[0m\u001b[0m: | : :G|\n",
      "| : | : : |\n",
      "| : : : : |\n",
      "| | : | : |\n",
      "|Y| : |B: |\n",
      "+---------+\n",
      "  (Dropoff)\n",
      "\n"
     ]
    }
   ],
   "source": [
    "state = env.reset()[0]\n",
    "for i in range(20):\n",
    "    display.clear_output(wait=True)\n",
    "    state, reward, is_terminal, _, _ = env.step(np.argmax(Q[state, :]))\n",
    "    print(env.render())\n",
    "    if is_terminal:\n",
    "        break\n",
    "    time.sleep(0.5)"
   ]
  },
  {
   "attachments": {},
   "cell_type": "markdown",
   "metadata": {},
   "source": [
    "Jak widać, wyznaczona strategia skutkuje poprawnym zachowaniem agenta."
   ]
  },
  {
   "attachments": {},
   "cell_type": "markdown",
   "metadata": {},
   "source": [
    "Zaimplementowana poniżej funkcja uśrednia wyniki symulacji danej strategii, aby uzyskać możliwie miarodajny wskaźnik jakości dla strategii wyznaczonych dla różnych wartości hiperparametrów algorytmu. "
   ]
  },
  {
   "cell_type": "code",
   "execution_count": 4,
   "metadata": {},
   "outputs": [],
   "source": [
    "def test_strategy(env, Q, epochs=100, t_max=100):\n",
    "    scores = []\n",
    "    times = []\n",
    "    for i in range(epochs):\n",
    "        state = env.reset()[0]\n",
    "        score = 0\n",
    "        for t in range(t_max):\n",
    "            state, reward, is_terminal, _, _ = env.step(np.argmax(Q[state, :]))\n",
    "            score += reward\n",
    "            if is_terminal:\n",
    "                break\n",
    "        scores.append(score)\n",
    "        times.append(t)\n",
    "    return {\"score\": np.mean(scores), \"time\": np.mean(times)}"
   ]
  },
  {
   "attachments": {},
   "cell_type": "markdown",
   "metadata": {},
   "source": [
    "Aby upewnić się, że rzeczywiście następuje uczenie, wywołuję algorytm dla różnej liczby epok. Uzyskane wyniki przedstawiam na wykresach poniżej."
   ]
  },
  {
   "cell_type": "code",
   "execution_count": 16,
   "metadata": {},
   "outputs": [],
   "source": [
    "results = {}\n",
    "results[\"score\"] = []\n",
    "results[\"time\"] = []\n",
    "epoch_values = np.logspace(1, 4, 10, dtype=int)\n",
    "for e in epoch_values:\n",
    "    Q = q_learning(env, 1000, 0.9, 0.9, e, e_greedy_strategy(0.1))\n",
    "    result = test_strategy(env, Q, 100, 1000)\n",
    "    results[\"score\"].append(result[\"score\"])\n",
    "    results[\"time\"].append(result[\"time\"])"
   ]
  },
  {
   "cell_type": "code",
   "execution_count": 17,
   "metadata": {},
   "outputs": [
    {
     "data": {
      "image/png": "[encoded data removed]",
      "text/plain": [
       "<Figure size 432x288 with 1 Axes>"
      ]
     },
     "metadata": {
      "needs_background": "light"
     },
     "output_type": "display_data"
    },
    {
     "data": {
      "image/png": "[encoded data removed]",
      "text/plain": [
       "<Figure size 432x288 with 1 Axes>"
      ]
     },
     "metadata": {
      "needs_background": "light"
     },
     "output_type": "display_data"
    }
   ],
   "source": [
    "plt.plot(epoch_values, results[\"score\"])\n",
    "plt.title(\"Średni wynik\")\n",
    "plt.xscale(\"log\")\n",
    "plt.show()\n",
    "\n",
    "plt.plot(epoch_values, results[\"time\"])\n",
    "plt.title(\"Średni czas przejścia\")\n",
    "plt.xscale(\"log\")\n",
    "plt.show()\n"
   ]
  },
  {
   "attachments": {},
   "cell_type": "markdown",
   "metadata": {},
   "source": [
    "Zgodnie z oczekiwaniami, wraz z kolejnymi epokami wzrasta wypłata dla agenta. Wraz z tym, spada czas przejścia zadania (wyrażony w liczbie wykonanych akcji). Na drugim wykresie widać, że w początkowej fazie uczenia agent radzi sobie dość słabo. Średni czas przejścia jest stale równy 1000 - jest to górny limit. Oznacza to, że agent zazwyczaj nie potrafił dojść do stanu terminalnego. Dopiero w okolicach e=10^2, średni czas przejścia zaczął mocno spadać. Na koniec, ustalił się na niskiej wartości - prawdopodobnie bliskiej optymalnie małemu czasowi przejścia.\n",
    "\n",
    "Wynik z kolei ograniczył się na wartości zbliżonej do nagrody za dowiezienie pasażera (trochę pomniejszonej, ponieważ za akcje nieterminalne nagroda jest pomniejszana)."
   ]
  }
 ],
 "metadata": {
  "kernelspec": {
   "display_name": "Python 3",
   "language": "python",
   "name": "python3"
  },
  "language_info": {
   "codemirror_mode": {
    "name": "ipython",
    "version": 3
   },
   "file_extension": ".py",
   "mimetype": "text/x-python",
   "name": "python",
   "nbconvert_exporter": "python",
   "pygments_lexer": "ipython3",
   "version": "3.8.10"
  },
  "orig_nbformat": 4,
  "vscode": {
   "interpreter": {
    "hash": "916dbcbb3f70747c44a77c7bcd40155683ae19c65e1c03b4aa3499c5328201f1"
   }
  }
 },
 "nbformat": 4,
 "nbformat_minor": 2
}
