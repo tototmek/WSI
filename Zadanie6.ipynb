{
 "cells": [
  {
   "attachments": {},
   "cell_type": "markdown",
   "metadata": {},
   "source": [
    "# Ćwiczenie 6\n",
    "*Tomasz Żebrowski*"
   ]
  },
  {
   "cell_type": "code",
   "execution_count": 1,
   "metadata": {},
   "outputs": [],
   "source": [
    "import gym\n",
    "import matplotlib.pyplot as plt\n",
    "from IPython import display\n",
    "import time\n",
    "import numpy as np\n",
    "%matplotlib inline\n",
    "\n",
    "env = gym.make(\"Taxi-v3\", render_mode=\"ansi\")\n",
    "# env.reset()\n",
    "# for i in range(20):\n",
    "#     display.clear_output(wait=True)\n",
    "#     print(env.render())\n",
    "#     env.step(env.action_space.sample())\n",
    "#     time.sleep(0.5)\n"
   ]
  },
  {
   "cell_type": "code",
   "execution_count": 2,
   "metadata": {},
   "outputs": [
    {
     "name": "stdout",
     "output_type": "stream",
     "text": [
      "Epoch 1000/1000\n"
     ]
    }
   ],
   "source": [
    "from qlearning import q_learning\n",
    "\n",
    "Q = q_learning(env, 1000, 0.9, 0.9, 1000)"
   ]
  },
  {
   "cell_type": "code",
   "execution_count": null,
   "metadata": {},
   "outputs": [],
   "source": [
    "state = env.reset()[0]\n",
    "for i in range(20):\n",
    "    display.clear_output(wait=True)\n",
    "    print(env.render())\n",
    "    state = env.step(np.argmax(Q[state, :]))[0]\n",
    "    time.sleep(0.5)"
   ]
  }
 ],
 "metadata": {
  "kernelspec": {
   "display_name": "Python 3",
   "language": "python",
   "name": "python3"
  },
  "language_info": {
   "codemirror_mode": {
    "name": "ipython",
    "version": 3
   },
   "file_extension": ".py",
   "mimetype": "text/x-python",
   "name": "python",
   "nbconvert_exporter": "python",
   "pygments_lexer": "ipython3",
   "version": "3.8.10"
  },
  "orig_nbformat": 4,
  "vscode": {
   "interpreter": {
    "hash": "916dbcbb3f70747c44a77c7bcd40155683ae19c65e1c03b4aa3499c5328201f1"
   }
  }
 },
 "nbformat": 4,
 "nbformat_minor": 2
}
