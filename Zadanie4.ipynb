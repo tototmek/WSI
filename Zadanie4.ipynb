{
 "cells": [
  {
   "attachments": {},
   "cell_type": "markdown",
   "metadata": {},
   "source": [
    "# WSI - ćwiczenie 4\n",
    "*Tomasz Żebrowski*\n",
    "\n",
    "Celem zadania była implementacja drzew decyzyjnych oraz algorytmu ID3 do ich budowania. Moją realizacja znajduje się w pliku `tree.py`. Jego istotne elementy to:\n",
    "- `DecisionTree` - klasa reprezentująca drzewo decyzyjne. Konstruktor przyjmuje parametr opcjonalny `max_depth`, który ogranicza maksymalny rozmiar drzewa. Jego domyślną wartością jest 5. Klasa posiada następujące metody:\n",
    "    - `fit(X, y)` - Z wykorzystaniem algorytmu ID3 buduje strukturę drzewa decyzyjnego dla zbioru uczącego `X` o etykietach `y`.\n",
    "    - `predict(X)` - Wyznacza predykcje dla serii próbek `X`, korzystając z wyznaczonej struktury drzewa. Zwraca serię predykcji."
   ]
  },
  {
   "attachments": {},
   "cell_type": "markdown",
   "metadata": {},
   "source": [
    "- `ID3` - funckja realizująca algorytm ID3. Jako parametry przyjmuje między innymi:\n",
    "    - `Y` - listę wszystkich etykiet w danych uczących\n",
    "    - `D` - zbiór parametrów uczących\n",
    "    - `X` - wartości parametrów w zbiorze uczącym\n",
    "    - `y` - etykiety w zbiorze uczącym\n",
    "    - `depth` - aktualną głębokość drzewa."
   ]
  },
  {
   "attachments": {},
   "cell_type": "markdown",
   "metadata": {},
   "source": [
    "### Przygotowanie danych\n",
    "Przed wykorzystaniem algorytmu, konieczne jest pozyskanie i odpowiednie przygotowanie danych. Rozpoczynam od pobrania bazy, na której ma być testowany algorytm. Po ich zapisaniu w pliku `breast-cancer.data`, wykorzystuję poniższy kod aby je wczytać. Dodatkowo, wyświetlam kilka pierwszych rekordów - z czystej ciekawości oraz by zweryfikować poprawność wczytywania."
   ]
  },
  {
   "cell_type": "code",
   "execution_count": 4,
   "metadata": {},
   "outputs": [
    {
     "data": {
      "text/html": [
       "<div>\n",
       "<style scoped>\n",
       "    .dataframe tbody tr th:only-of-type {\n",
       "        vertical-align: middle;\n",
       "    }\n",
       "\n",
       "    .dataframe tbody tr th {\n",
       "        vertical-align: top;\n",
       "    }\n",
       "\n",
       "    .dataframe thead th {\n",
       "        text-align: right;\n",
       "    }\n",
       "</style>\n",
       "<table border=\"1\" class=\"dataframe\">\n",
       "  <thead>\n",
       "    <tr style=\"text-align: right;\">\n",
       "      <th></th>\n",
       "      <th>0</th>\n",
       "      <th>1</th>\n",
       "      <th>2</th>\n",
       "      <th>3</th>\n",
       "      <th>4</th>\n",
       "    </tr>\n",
       "  </thead>\n",
       "  <tbody>\n",
       "    <tr>\n",
       "      <th>class</th>\n",
       "      <td>no-recurrence-events</td>\n",
       "      <td>no-recurrence-events</td>\n",
       "      <td>no-recurrence-events</td>\n",
       "      <td>no-recurrence-events</td>\n",
       "      <td>no-recurrence-events</td>\n",
       "    </tr>\n",
       "    <tr>\n",
       "      <th>age</th>\n",
       "      <td>30-39</td>\n",
       "      <td>40-49</td>\n",
       "      <td>40-49</td>\n",
       "      <td>60-69</td>\n",
       "      <td>40-49</td>\n",
       "    </tr>\n",
       "    <tr>\n",
       "      <th>menopause</th>\n",
       "      <td>premeno</td>\n",
       "      <td>premeno</td>\n",
       "      <td>premeno</td>\n",
       "      <td>ge40</td>\n",
       "      <td>premeno</td>\n",
       "    </tr>\n",
       "    <tr>\n",
       "      <th>tumor-size</th>\n",
       "      <td>30-34</td>\n",
       "      <td>20-24</td>\n",
       "      <td>20-24</td>\n",
       "      <td>15-19</td>\n",
       "      <td>0-4</td>\n",
       "    </tr>\n",
       "    <tr>\n",
       "      <th>inv-nodes</th>\n",
       "      <td>0-2</td>\n",
       "      <td>0-2</td>\n",
       "      <td>0-2</td>\n",
       "      <td>0-2</td>\n",
       "      <td>0-2</td>\n",
       "    </tr>\n",
       "    <tr>\n",
       "      <th>node-caps</th>\n",
       "      <td>no</td>\n",
       "      <td>no</td>\n",
       "      <td>no</td>\n",
       "      <td>no</td>\n",
       "      <td>no</td>\n",
       "    </tr>\n",
       "    <tr>\n",
       "      <th>deg-malig</th>\n",
       "      <td>3</td>\n",
       "      <td>2</td>\n",
       "      <td>2</td>\n",
       "      <td>2</td>\n",
       "      <td>2</td>\n",
       "    </tr>\n",
       "    <tr>\n",
       "      <th>breast</th>\n",
       "      <td>left</td>\n",
       "      <td>right</td>\n",
       "      <td>left</td>\n",
       "      <td>right</td>\n",
       "      <td>right</td>\n",
       "    </tr>\n",
       "    <tr>\n",
       "      <th>breast-quad</th>\n",
       "      <td>left_low</td>\n",
       "      <td>right_up</td>\n",
       "      <td>left_low</td>\n",
       "      <td>left_up</td>\n",
       "      <td>right_low</td>\n",
       "    </tr>\n",
       "    <tr>\n",
       "      <th>irradiat</th>\n",
       "      <td>no</td>\n",
       "      <td>no</td>\n",
       "      <td>no</td>\n",
       "      <td>no</td>\n",
       "      <td>no</td>\n",
       "    </tr>\n",
       "  </tbody>\n",
       "</table>\n",
       "</div>"
      ],
      "text/plain": [
       "                                0                     1                     2  \\\n",
       "class        no-recurrence-events  no-recurrence-events  no-recurrence-events   \n",
       "age                         30-39                 40-49                 40-49   \n",
       "menopause                 premeno               premeno               premeno   \n",
       "tumor-size                  30-34                 20-24                 20-24   \n",
       "inv-nodes                     0-2                   0-2                   0-2   \n",
       "node-caps                      no                    no                    no   \n",
       "deg-malig                       3                     2                     2   \n",
       "breast                       left                 right                  left   \n",
       "breast-quad              left_low              right_up              left_low   \n",
       "irradiat                       no                    no                    no   \n",
       "\n",
       "                                3                     4  \n",
       "class        no-recurrence-events  no-recurrence-events  \n",
       "age                         60-69                 40-49  \n",
       "menopause                    ge40               premeno  \n",
       "tumor-size                  15-19                   0-4  \n",
       "inv-nodes                     0-2                   0-2  \n",
       "node-caps                      no                    no  \n",
       "deg-malig                       2                     2  \n",
       "breast                      right                 right  \n",
       "breast-quad               left_up             right_low  \n",
       "irradiat                       no                    no  "
      ]
     },
     "execution_count": 4,
     "metadata": {},
     "output_type": "execute_result"
    }
   ],
   "source": [
    "from sklearn.model_selection import train_test_split\n",
    "import pandas as pd\n",
    "import numpy as np\n",
    "\n",
    "data = pd.read_csv('breast-cancer.data', header=0) \n",
    "data.head().T"
   ]
  },
  {
   "attachments": {},
   "cell_type": "markdown",
   "metadata": {},
   "source": [
    "Ponieważ wszystko wygląda poprawnie, przechodzę do następnego kroku. W poniższych liniach dzielę dane na tabelę `X` - wartości parametrów uczących oraz listę `y` - klasy odpowiednich rekordów."
   ]
  },
  {
   "cell_type": "code",
   "execution_count": 5,
   "metadata": {},
   "outputs": [],
   "source": [
    "feature_cols = ['class', 'age', 'menopause', 'tumor-size', 'inv-nodes', 'node-caps', 'deg-malig', 'breast', 'breast-quad']\n",
    "X = data.loc[:, feature_cols]\n",
    "y = data.loc[:, 'irradiat']"
   ]
  },
  {
   "attachments": {},
   "cell_type": "markdown",
   "metadata": {},
   "source": [
    "Następnie dzielę dane na zbiory: uczący, walidacyjny i testowy (odpowiednio train, val i test). Wykorzystuję do tego funkcję `sklearn.model_selection.train_test_split`."
   ]
  },
  {
   "cell_type": "code",
   "execution_count": 11,
   "metadata": {},
   "outputs": [],
   "source": [
    "X_train_full, X_test, y_train_full, y_test = train_test_split(X, y)\n",
    "X_train, X_val, y_train, y_val = train_test_split(X_train_full, y_train_full)"
   ]
  },
  {
   "attachments": {},
   "cell_type": "markdown",
   "metadata": {},
   "source": [
    "Poniżej wypisuję liczność uzyskanych zbiorów."
   ]
  },
  {
   "cell_type": "code",
   "execution_count": 125,
   "metadata": {},
   "outputs": [
    {
     "name": "stdout",
     "output_type": "stream",
     "text": [
      "Liczność zbioru treningowego:\t 160\n",
      "Liczność zbioru walidacyjnego:\t 54\n",
      "Liczność zbioru testowego:\t 72\n"
     ]
    }
   ],
   "source": [
    "counts = [X_train.shape[0], X_val.shape[0], X_test.shape[0]]\n",
    "print(\"Liczność zbioru treningowego:\\t\", counts[0])\n",
    "print(\"Liczność zbioru walidacyjnego:\\t\", counts[1])\n",
    "print(\"Liczność zbioru testowego:\\t\", counts[2])"
   ]
  },
  {
   "attachments": {},
   "cell_type": "markdown",
   "metadata": {},
   "source": [
    "Widać, że zbiory te są bardzo małe. To niedobrze - wytrenowanie klasyfikatora na małym zbiorze danych uczących nie jest łatwe. Co więcej, walidacja może okazać się niezbyt dobra w wyniku małego rozmiaru zbioru walidacyjnego."
   ]
  },
  {
   "attachments": {},
   "cell_type": "markdown",
   "metadata": {},
   "source": [
    "### Wykorzystanie drzewa decyzyjnego\n",
    "Tak przygotowane dane można już wykorzystać do budowy drzewa decyzyjnego"
   ]
  },
  {
   "attachments": {},
   "cell_type": "markdown",
   "metadata": {},
   "source": [
    "Poniższy kod używa mojej implementacji z pliku `tree.py` aby stworzyć i zbudować drzewo decyzyjne dla omawianego zbioru danych."
   ]
  },
  {
   "cell_type": "code",
   "execution_count": 126,
   "metadata": {},
   "outputs": [],
   "source": [
    "from tree import DecisionTree\n",
    "\n",
    "tree = DecisionTree()\n",
    "tree.fit(X_train, y_train)"
   ]
  },
  {
   "attachments": {},
   "cell_type": "markdown",
   "metadata": {},
   "source": [
    "Drzewo jest gotowe. Warto w tym momencie sprawdzić czy ono działa. W tym celu używam go na przykładowym elemencie zbioru walidacyjnego."
   ]
  },
  {
   "cell_type": "code",
   "execution_count": 127,
   "metadata": {},
   "outputs": [
    {
     "name": "stdout",
     "output_type": "stream",
     "text": [
      "Predykcja modelu: no\n",
      "Wartość prawdziwa: no\n"
     ]
    }
   ],
   "source": [
    "y_pred = tree.predict(X_val.iloc[42:43])\n",
    "print(\"Predykcja modelu: \", end=\"\")\n",
    "print(y_pred.iloc[0])\n",
    "print(\"Wartość prawdziwa: \", end=\"\")\n",
    "print(y_val.iloc[42])"
   ]
  },
  {
   "attachments": {},
   "cell_type": "markdown",
   "metadata": {},
   "source": [
    "Model nie stwierdził obecności raka. Okazuje się to być zgodne z prawdą. Poniższy kod wykonuje podobny eksperyment dla wszystkich elementów zbioru walidacyjnego i wypisuje jaką część wszystkich predykcji model wykonał poprawnie."
   ]
  },
  {
   "cell_type": "code",
   "execution_count": 128,
   "metadata": {},
   "outputs": [
    {
     "name": "stdout",
     "output_type": "stream",
     "text": [
      "Trafienia:\n",
      "85.19%\n"
     ]
    }
   ],
   "source": [
    "y_val_pred = tree.predict(X_val)\n",
    "tp = 0\n",
    "fp = 0\n",
    "tn = 0\n",
    "fn = 0\n",
    "for i in range(len(y_val_pred)):\n",
    "    if y_val_pred.iloc[i] == y_val.iloc[i]:\n",
    "        if y_val_pred.iloc[i] == \"yes\":\n",
    "            tp += 1\n",
    "        else:\n",
    "            tn += 1\n",
    "    else:\n",
    "        if y_val_pred.iloc[i] == \"yes\":\n",
    "            fp += 1\n",
    "        else:\n",
    "            fn += 1\n",
    "\n",
    "total = len(y_val_pred)\n",
    "good_score = (tp+tn) / total\n",
    "print(\"Trafienia:\")\n",
    "print('{0:.2f}'.format(good_score*100) + '%')"
   ]
  },
  {
   "attachments": {},
   "cell_type": "markdown",
   "metadata": {},
   "source": [
    "Niestety, uzyskany sukces jest prawdopodobnie pozorny. Wynika to z tego, że klasa negatywna jest w zbiorze walidacyjnym znacznie liczniejsza od klasy pozytywnej. W takiej sytuacji możliwe jest, że nawet klasyfikator zwracający zawsze klasę negatywną uzyska dobry wynik liczony w taki sposób."
   ]
  },
  {
   "cell_type": "code",
   "execution_count": 129,
   "metadata": {},
   "outputs": [
    {
     "name": "stdout",
     "output_type": "stream",
     "text": [
      "75.92 %\n"
     ]
    }
   ],
   "source": [
    "y_val_count = y_val.value_counts()\n",
    "print(int(y_val_count[\"no\"] / (y_val_count[\"no\"] + y_val_count[\"yes\"])*10000)/100, \"%\")"
   ]
  },
  {
   "attachments": {},
   "cell_type": "markdown",
   "metadata": {},
   "source": [
    "Okazuje się, że taki klasyfikator jest prawie tak dobry jak moje drzewo decyzyjne! (Oczywiście tylko pod kątem wyniku liczonego w taki sposób)"
   ]
  },
  {
   "attachments": {},
   "cell_type": "markdown",
   "metadata": {},
   "source": [
    "Aby móc ocenić realną jakość klasyfikatora, konieczne będzie zastosowanie innej metryki. Rozpoczynam od wpisania wyników eksperymentu do tabeli (macierzy pomyłek) w opisany poniżej sposób."
   ]
  },
  {
   "cell_type": "code",
   "execution_count": 130,
   "metadata": {},
   "outputs": [
    {
     "data": {
      "text/html": [
       "<div>\n",
       "<style scoped>\n",
       "    .dataframe tbody tr th:only-of-type {\n",
       "        vertical-align: middle;\n",
       "    }\n",
       "\n",
       "    .dataframe tbody tr th {\n",
       "        vertical-align: top;\n",
       "    }\n",
       "\n",
       "    .dataframe thead th {\n",
       "        text-align: right;\n",
       "    }\n",
       "</style>\n",
       "<table border=\"1\" class=\"dataframe\">\n",
       "  <thead>\n",
       "    <tr style=\"text-align: right;\">\n",
       "      <th></th>\n",
       "      <th>Negative</th>\n",
       "      <th>Positive</th>\n",
       "    </tr>\n",
       "  </thead>\n",
       "  <tbody>\n",
       "    <tr>\n",
       "      <th>Negative</th>\n",
       "      <td>39</td>\n",
       "      <td>2</td>\n",
       "    </tr>\n",
       "    <tr>\n",
       "      <th>Positive</th>\n",
       "      <td>6</td>\n",
       "      <td>7</td>\n",
       "    </tr>\n",
       "  </tbody>\n",
       "</table>\n",
       "</div>"
      ],
      "text/plain": [
       "          Negative  Positive\n",
       "Negative        39         2\n",
       "Positive         6         7"
      ]
     },
     "execution_count": 130,
     "metadata": {},
     "output_type": "execute_result"
    }
   ],
   "source": [
    "\n",
    "confusion_matrix_raw = np.array([[tn, fp], \n",
    "                             [fn, tp]])\n",
    "confusion_matrix = pd.DataFrame({\"Negative\": [tn, fp],\n",
    "                                 \"Positive\": [fn, tp]},\n",
    "                                 index=[\"Negative\", \"Positive\"])\n",
    "confusion_matrix.head().T"
   ]
  },
  {
   "attachments": {},
   "cell_type": "markdown",
   "metadata": {},
   "source": [
    "Wiersze tabeli to wartości prawdziwe, kolumny to wartości przewidziane. Wartości w tabeli to liczność zbioru.\n",
    "\n",
    "Widać, że poprzednia metryka oceniała drzewo decyzyjne zbyt optymistycznie. Na macierzy pomyłek widać, że jedynie 7 z 13 wszystkich prawdziwie pozytywnych wyników zostało sklasyfikowanych jako poytywne. Sytuacja wygląda nieco lepiej jeśli spojrzymy jaka część wyników zgłoszonych jako pozytywne była prawdziwie klasą pozytywną. W tym przypadku jest to 7 z 9."
   ]
  },
  {
   "attachments": {},
   "cell_type": "markdown",
   "metadata": {},
   "source": [
    "Taki sposób rozumowania wykorzystuje się licząc dla klasyfikatora wynik *precyzji* i *czułości*. Wyrażają one wyznaczone eksperymentalnie prawdopodobieństwa, że, odpowiednio, zgłoszony wynik pozytywny jest faktycznie pozytywny, oraz że wynik prawdziwie pozytywny zostanie zgłoszony jako pozytywny."
   ]
  },
  {
   "attachments": {},
   "cell_type": "markdown",
   "metadata": {},
   "source": [
    "W przypadku omawianego zadania, *precyzja* to prawdopodobieństwo, że pacjent zdiagnozowany jako nosiciel choroby będzie faktycznie chory, natomiast *czułość* jest prawdopodobieństwem, że chory pacjent zostanie zdiagnozowany."
   ]
  },
  {
   "attachments": {},
   "cell_type": "markdown",
   "metadata": {},
   "source": [
    "Dodatkowo, liczę normę *F1*, będącą formą uśrednienia poprzednich."
   ]
  },
  {
   "cell_type": "code",
   "execution_count": 131,
   "metadata": {},
   "outputs": [
    {
     "name": "stdout",
     "output_type": "stream",
     "text": [
      "Precyzja:\t 0.7778\n",
      "Czułość:\t 0.5385\n",
      "F1:\t\t 0.6364\n"
     ]
    }
   ],
   "source": [
    "\n",
    "print(\"Precyzja:\\t\", '{0:.4f}'.format(tp/(tp+fp)))\n",
    "print(\"Czułość:\\t\", '{0:.4f}'.format(tp/(tp+fn)))\n",
    "print(\"F1:\\t\\t\", '{0:.4f}'.format(tp/(tp + (fn + fp)/2)))"
   ]
  },
  {
   "attachments": {},
   "cell_type": "markdown",
   "metadata": {},
   "source": [
    "Widać, że wyniki nie są zatrważająco złe - klasyfikator radzi sobie dość przyzwoicie. Problemem może być to, że czułość jest niska - kiedy diagnozujemy chorobe często wolelibyśmy mieć pewność, że nie przeoczymy chorego pacjenta, nawet kosztem pozytywnej diagnozy osoby zdrowej. W tym przypadku jest odwrotnie - precyzja wyższa od czułości oznacza, że pacjent zdiagnozowany jest najprawdopodobniej rzeczywiście chory, ale jest duża szansa na przeoczenie niektórych chorych."
   ]
  },
  {
   "attachments": {},
   "cell_type": "markdown",
   "metadata": {},
   "source": [
    "### Jakość modelu w zależności od rozmiaru drzewa"
   ]
  },
  {
   "attachments": {},
   "cell_type": "markdown",
   "metadata": {},
   "source": [
    "Powyższy eksperyment został przeprowadzony dla drzewa o domyślnym ograniczeniu `max_depth=5`. Możliwe jednak, że inne jego wartości dadzą lepszy model. Aby zbadać zależność jakości klasyfikatora od rozmiaru drzewa, wyznaczam *F1* dla drzew o różnych głębokościach zarówno na zbiorze walidacyjnym, jak i uczącym."
   ]
  },
  {
   "cell_type": "code",
   "execution_count": 1,
   "metadata": {},
   "outputs": [],
   "source": [
    "def precision_recall_f1(tree, X, y):\n",
    "    y_pred = tree.predict(X)\n",
    "    tp = 0\n",
    "    fp = 0\n",
    "    tn = 0\n",
    "    fn = 0\n",
    "    for i in range(len(y_pred)):\n",
    "        if y_pred.iloc[i] == y.iloc[i]:\n",
    "            if y_pred.iloc[i] == \"yes\":\n",
    "                tp += 1\n",
    "            else:\n",
    "                tn += 1\n",
    "        else:\n",
    "            if y_pred.iloc[i] == \"yes\":\n",
    "                fp += 1\n",
    "            else:\n",
    "                fn += 1\n",
    "    total = len(y_pred)\n",
    "    precision = tp/(tp+fp)\n",
    "    recall = tp/(tp+fn)\n",
    "    f1 = tp/(tp + (fn + fp)/2)\n",
    "    return precision, recall, f1"
   ]
  },
  {
   "cell_type": "code",
   "execution_count": 143,
   "metadata": {},
   "outputs": [],
   "source": [
    "result = {}\n",
    "for i in range(1, 10):\n",
    "    result[i] = {}\n",
    "    result[i][\"val\"] = {}\n",
    "    result[i][\"train\"] = {}\n",
    "    tree = DecisionTree(max_depth=i)\n",
    "    tree.fit(X_train, y_train)\n",
    "    precision, recall, f1 = precision_recall_f1(tree, X_val, y_val)\n",
    "    result[i][\"val\"][\"precision\"] = precision\n",
    "    result[i][\"val\"][\"recall\"] = recall\n",
    "    result[i][\"val\"][\"f1\"] = f1\n",
    "    precision, recall, f1 = precision_recall_f1(tree, X_train, y_train)\n",
    "    result[i][\"train\"][\"precision\"] = precision\n",
    "    result[i][\"train\"][\"recall\"] = recall\n",
    "    result[i][\"train\"][\"f1\"] = f1\n"
   ]
  },
  {
   "cell_type": "code",
   "execution_count": 137,
   "metadata": {},
   "outputs": [
    {
     "data": {
      "image/png": "[encoded data removed]",
      "text/plain": [
       "<Figure size 432x288 with 1 Axes>"
      ]
     },
     "metadata": {
      "needs_background": "light"
     },
     "output_type": "display_data"
    }
   ],
   "source": [
    "import matplotlib.pyplot as plt\n",
    "plt.plot(list(result.keys())[1:-1], [result[i][\"val\"][\"f1\"] for i in result.keys()][1:-1], label=\"zbiór walidacyjny\")\n",
    "plt.plot(list(result.keys())[1:-1], [result[i][\"train\"][\"f1\"] for i in result.keys()][1:-1], label=\"zbiór uczący\")\n",
    "plt.xlabel(\"max_depth\")\n",
    "plt.ylabel(\"F1\")\n",
    "plt.legend()\n",
    "plt.show()\n"
   ]
  },
  {
   "attachments": {},
   "cell_type": "markdown",
   "metadata": {},
   "source": [
    "Po pierwsze, widać wyraźnie, że drzewa radzą sobie lepiej kiedy testujemy je na danych uczących. Nie ma w tym nic dziwnego, ponieważ są to te same dane, na podstawie których struktura drzew była budowana.\n",
    "\n",
    "Na początku widać, że wynik klasyfikatorów wzrasta wraz ze wzrostem ich głębokości dla obu zbiorów. Powyżej `max_depth=5` jakość dla zbioru walidacyjnego zaczyna dość gwałtownie spadać i ustala się na niskiej wartości do końca eksperymentu, podczas gdy jakość dla zbioru uczącego dalej wzrasta. Pokazuje to, że modele o głębokości >5 są przeuczone - zbytnio dostosowują się do zbioru uczącego, tracąc tym samym zdolność ekstrapolacji na nowe dane.\n",
    "\n",
    "Na podstawie powyższego eksperymentu stwierdzam, że dla metryki *F1* model działa najlepiej przy `max_depth=5` (nie bez powodu jest to domyślna wartość tego parametru)."
   ]
  },
  {
   "attachments": {},
   "cell_type": "markdown",
   "metadata": {},
   "source": [
    "### Precyzja/Czułość w zależności od rozmiaru drzewa\n",
    "\n",
    "Nie jestem w pełni przekonany do wyznaczonego klasyfikatora. Ponieważ dla omawianego problemu istotna jest wysoka czułość modelu, sprawdzam czy może dla pewnych wartości parametru `max_depth` jest ona większa od precyzji."
   ]
  },
  {
   "cell_type": "code",
   "execution_count": 138,
   "metadata": {},
   "outputs": [
    {
     "data": {
      "image/png": "[encoded data removed]",
      "text/plain": [
       "<Figure size 432x288 with 1 Axes>"
      ]
     },
     "metadata": {
      "needs_background": "light"
     },
     "output_type": "display_data"
    }
   ],
   "source": [
    "plt.plot(list(result.keys())[1:-1], [result[i][\"val\"][\"precision\"] for i in result.keys()][1:-1], label=\"Precyzja\")\n",
    "plt.plot(list(result.keys())[1:-1], [result[i][\"val\"][\"recall\"] for i in result.keys()][1:-1], label=\"Czułość\")\n",
    "plt.xlabel(\"max_depth\")\n",
    "plt.ylabel(\"Wartość\")\n",
    "plt.legend()\n",
    "plt.show()"
   ]
  },
  {
   "attachments": {},
   "cell_type": "markdown",
   "metadata": {},
   "source": [
    "Niestety, okazuje się, że w przypadku tego problemu, Precyzja i czułość są skorelowane i precyzja będzie zawsze wyższa od czułości"
   ]
  },
  {
   "attachments": {},
   "cell_type": "markdown",
   "metadata": {},
   "source": [
    "### Wyznaczenie jakości modelu na zbiorze testowym"
   ]
  },
  {
   "attachments": {},
   "cell_type": "markdown",
   "metadata": {},
   "source": [
    "Zdecydowałem się już na konkretny model. W tym wypadku wyznaczam jego spodziewaną jakość na podstawie zbioru testowego."
   ]
  },
  {
   "cell_type": "code",
   "execution_count": 18,
   "metadata": {},
   "outputs": [
    {
     "name": "stdout",
     "output_type": "stream",
     "text": [
      "Precyzja:\t 0.5882\n",
      "Czułość:\t 0.4000\n",
      "F1:\t\t 0.4762\n"
     ]
    }
   ],
   "source": [
    "tree = DecisionTree(max_depth=5)\n",
    "tree.fit(X_train, y_train)\n",
    "precision, recall, f1 = precision_recall_f1(tree, X_test, y_test)\n",
    "print(\"Precyzja:\\t\", '{0:.4f}'.format(precision))\n",
    "print(\"Czułość:\\t\", '{0:.4f}'.format(recall))\n",
    "print(\"F1:\\t\\t\", '{0:.4f}'.format(f1))"
   ]
  },
  {
   "attachments": {},
   "cell_type": "markdown",
   "metadata": {},
   "source": [
    "Niestety, klasyfikator działa słabo. Na podstawie danych testowych założyć można, że pacjent zdiagnozowany pozytywnie przez model jest naprawdę chory z prawdopodobieństwem ok. 59%, a chorzy pacjenci będą diagnozowani z prawdopodobieństwem 40%. Wyniki są słabe.\n",
    "\n",
    "Główną przyczyną jest w tym przypadku niska liczność zbiorów danych. Mało liczny zbiór uczący sprawia, że model niekoniecznie nauczy się prawidłowo interpretować relacje między parametrami, czyli będzie słabo ekstrapolował swoją wiedzę na nowe dane. Dużym problemem w tym przypadku jest również bardzo mała liczność zbioru walidacyjnego - jakość modelu oceniał na bardzo małym zbiorze przykładów walidacyjnych, a takie testowanie może być mylące. W tym miejscu sam dobiłe sobie gwóźdź do trumny - losowałem podziały na zbiory uczący i walidacyjny tak długo, aż dostałem dobry wynik walidacji. Jest to oczywiście bardzo zła praktyka - taki wynik walidacji (jak się z resztą okazało) nie powtórzy się dla danych testowych ani kiedy model będzie wykorzystywany dla prawdziwych danych.\n",
    "\n",
    "Liczność zbioru testowego jest również niewielka - ze względu na to istnieje szansa, że model jest dobry, ale wylosowana próbka testowa była szczególnie niesprzyjająca. Jest to sytuacja bardzo podobna do optymistycznej walidacji przy zbyt małym zbiorze walidacyjnym - akurat takie dane się wylosowały. Oczywiście taka opcja nie jest powodem do optymizmu - możliwe jest przecież również, że dane testowe sprzyjały modelowi, ale ten jest po prostu niezwykle beznadziejny (co na szczęście jest raczej mniej prawdopodobne w tym przypadku)."
   ]
  },
  {
   "attachments": {},
   "cell_type": "markdown",
   "metadata": {},
   "source": [
    "Z czystej ciekawości - by uzmysłowić sobie jak losowość podziału na zbiory uczący, walidacyjny i testowy wpływa na uzyskane wyniki, wyznaczam *F1* na każdym ze zbiorów dla kilku losowych podziałów."
   ]
  },
  {
   "cell_type": "code",
   "execution_count": 32,
   "metadata": {},
   "outputs": [
    {
     "name": "stdout",
     "output_type": "stream",
     "text": [
      "\n",
      "Próba 1\n",
      "Precyzja:\t 0.3600\n",
      "Czułość:\t 0.5294\n",
      "F1:\t\t 0.4286\n",
      "\n",
      "Próba 2\n",
      "Precyzja:\t 0.6667\n",
      "Czułość:\t 0.3333\n",
      "F1:\t\t 0.4444\n",
      "\n",
      "Próba 3\n",
      "Precyzja:\t 0.4762\n",
      "Czułość:\t 0.5000\n",
      "F1:\t\t 0.4878\n"
     ]
    }
   ],
   "source": [
    "for i in range(3):\n",
    "    X_train_full, X_test, y_train_full, y_test = train_test_split(X, y)\n",
    "    X_train, X_val, y_train, y_val = train_test_split(X_train_full, y_train_full)\n",
    "    tree = DecisionTree(max_depth=5)\n",
    "    tree.fit(X_train, y_train)\n",
    "    precision, recall, f1 = precision_recall_f1(tree, X_test, y_test)\n",
    "    print(f\"\\nPróba {i+1}\")\n",
    "    print(\"Precyzja:\\t\", '{0:.4f}'.format(precision))\n",
    "    print(\"Czułość:\\t\", '{0:.4f}'.format(recall))\n",
    "    print(\"F1:\\t\\t\", '{0:.4f}'.format(f1))"
   ]
  },
  {
   "attachments": {},
   "cell_type": "markdown",
   "metadata": {},
   "source": [
    "Widać, że wyniki dla kilku przykładów są bardzo różne. Czase, precyzja jest znacznie większa, czasem czułość. Aby jednak móc wyciągnąć wnioski, powtarzam eksperyment wiele razy."
   ]
  },
  {
   "cell_type": "code",
   "execution_count": 45,
   "metadata": {},
   "outputs": [],
   "source": [
    "results = {}\n",
    "results[\"val\"] = {}\n",
    "results[\"train\"] = {}\n",
    "results[\"test\"] = {}\n",
    "for key in results.keys():\n",
    "    results[key][\"precision\"] = []\n",
    "    results[key][\"recall\"] = []\n",
    "    results[key][\"f1\"] = []\n",
    "for i in range(1000):\n",
    "    try:\n",
    "        X_train_full, X_test, y_train_full, y_test = train_test_split(X, y)\n",
    "        X_train, X_val, y_train, y_val = train_test_split(X_train_full, y_train_full)\n",
    "        tree = DecisionTree(max_depth=5)\n",
    "        tree.fit(X_train, y_train)\n",
    "        precision, recall, f1 = precision_recall_f1(tree, X_test, y_test)\n",
    "        results[\"test\"][\"precision\"].append(precision)\n",
    "        results[\"test\"][\"recall\"].append(recall)\n",
    "        results[\"test\"][\"f1\"].append(f1)\n",
    "        precision, recall, f1 = precision_recall_f1(tree, X_val, y_val)\n",
    "        results[\"val\"][\"precision\"].append(precision)\n",
    "        results[\"val\"][\"recall\"].append(recall)\n",
    "        results[\"val\"][\"f1\"].append(f1)\n",
    "        precision, recall, f1 = precision_recall_f1(tree, X_train, y_train)\n",
    "        results[\"train\"][\"precision\"].append(precision)\n",
    "        results[\"train\"][\"recall\"].append(recall)\n",
    "        results[\"train\"][\"f1\"].append(f1)\n",
    "    except ZeroDivisionError:\n",
    "        pass"
   ]
  },
  {
   "cell_type": "code",
   "execution_count": 50,
   "metadata": {},
   "outputs": [
    {
     "name": "stdout",
     "output_type": "stream",
     "text": [
      "Precyzja na zbiorze testowym:\t 0.4742 +/- 0.2095\n",
      "Czułość na zbiorze testowym:\t 0.2772 +/- 0.1862\n",
      "F1 na zbiorze testowym:\t\t 0.3110 +/- 0.1610\n",
      "\n",
      "\n",
      "Precyzja na zbiorze walidacyjnym:\t 0.4759 +/- 0.2450\n",
      "Czułość na zbiorze walidacyjnym:\t 0.2778 +/- 0.1848\n",
      "F1 na zbiorze walidacyjnym:\t\t 0.3105 +/- 0.1636\n",
      "\n",
      "\n",
      "Precyzja na zbiorze uczącym:\t 0.7013 +/- 0.1123\n",
      "Czułość na zbiorze uczącym:\t 0.4619 +/- 0.1939\n",
      "F1 na zbiorze uczącym:\t\t 0.5177 +/- 0.1302\n"
     ]
    }
   ],
   "source": [
    "mean_std = {}\n",
    "for key in results.keys():\n",
    "    mean_std[key] = {}\n",
    "    for metric in results[key].keys():\n",
    "        mean_std[key][metric] = {}\n",
    "        mean_std[key][metric][\"mean\"] = np.mean(results[key][metric])\n",
    "        mean_std[key][metric][\"std\"] = np.std(results[key][metric])\n",
    "\n",
    "print(\"Precyzja na zbiorze testowym:\\t\", '{0:.4f}'.format(mean_std[\"test\"][\"precision\"][\"mean\"]), \"+/-\", '{0:.4f}'.format(mean_std[\"test\"][\"precision\"][\"std\"]))\n",
    "print(\"Czułość na zbiorze testowym:\\t\", '{0:.4f}'.format(mean_std[\"test\"][\"recall\"][\"mean\"]), \"+/-\", '{0:.4f}'.format(mean_std[\"test\"][\"recall\"][\"std\"]))\n",
    "print(\"F1 na zbiorze testowym:\\t\\t\", '{0:.4f}'.format(mean_std[\"test\"][\"f1\"][\"mean\"]), \"+/-\", '{0:.4f}'.format(mean_std[\"test\"][\"f1\"][\"std\"]))\n",
    "print(\"\\n\")\n",
    "print(\"Precyzja na zbiorze walidacyjnym:\\t\", '{0:.4f}'.format(mean_std[\"val\"][\"precision\"][\"mean\"]), \"+/-\", '{0:.4f}'.format(mean_std[\"val\"][\"precision\"][\"std\"]))\n",
    "print(\"Czułość na zbiorze walidacyjnym:\\t\", '{0:.4f}'.format(mean_std[\"val\"][\"recall\"][\"mean\"]), \"+/-\", '{0:.4f}'.format(mean_std[\"val\"][\"recall\"][\"std\"]))\n",
    "print(\"F1 na zbiorze walidacyjnym:\\t\\t\", '{0:.4f}'.format(mean_std[\"val\"][\"f1\"][\"mean\"]), \"+/-\", '{0:.4f}'.format(mean_std[\"val\"][\"f1\"][\"std\"]))\n",
    "print(\"\\n\")\n",
    "print(\"Precyzja na zbiorze uczącym:\\t\", '{0:.4f}'.format(mean_std[\"train\"][\"precision\"][\"mean\"]), \"+/-\", '{0:.4f}'.format(mean_std[\"train\"][\"precision\"][\"std\"]))\n",
    "print(\"Czułość na zbiorze uczącym:\\t\", '{0:.4f}'.format(mean_std[\"train\"][\"recall\"][\"mean\"]), \"+/-\", '{0:.4f}'.format(mean_std[\"train\"][\"recall\"][\"std\"]))\n",
    "print(\"F1 na zbiorze uczącym:\\t\\t\", '{0:.4f}'.format(mean_std[\"train\"][\"f1\"][\"mean\"]), \"+/-\", '{0:.4f}'.format(mean_std[\"train\"][\"f1\"][\"std\"]))"
   ]
  },
  {
   "attachments": {},
   "cell_type": "markdown",
   "metadata": {},
   "source": [
    "Powyższe wyniki wyznaczone są dla 1000 losowych podziałów danych.\n",
    "\n",
    "Widać, że odchylenia wyników są bardzo duże - rzeczywiście na jakość modelu i jego oceny wpływa podział danych na zbiory (trudno tego uniknąć, gdy pracuje się na tak małych zbiorach). Obserwacja ta potwierdza poprawność moich poprzednich wniosków.\n",
    "\n",
    "Widać, że wyniki dla zbioru uczącego są znacznie wyższe niż dla testowego i walidacyjnego, co jest zgodne z oczekiwaniami. Można również zauważyć, że średnie wyniki dla zbioru walidacyjnego i testowego bardzo zbliżyły się do siebie - tak powinno być (w sytuacji idealnej wynik na zbiorze walidacyjnym dokładnie odzwierciedla to, co wyszło by na zbiorze testowym). Idąc dalej, można się spodziewać, że również wyznaczone wyniki dla zbioru testowego są bliskie prawdzie i sprawdziłyby się na nowych danych."
   ]
  }
 ],
 "metadata": {
  "kernelspec": {
   "display_name": "Python 3",
   "language": "python",
   "name": "python3"
  },
  "language_info": {
   "codemirror_mode": {
    "name": "ipython",
    "version": 3
   },
   "file_extension": ".py",
   "mimetype": "text/x-python",
   "name": "python",
   "nbconvert_exporter": "python",
   "pygments_lexer": "ipython3",
   "version": "3.8.10"
  },
  "orig_nbformat": 4,
  "vscode": {
   "interpreter": {
    "hash": "916dbcbb3f70747c44a77c7bcd40155683ae19c65e1c03b4aa3499c5328201f1"
   }
  }
 },
 "nbformat": 4,
 "nbformat_minor": 2
}
